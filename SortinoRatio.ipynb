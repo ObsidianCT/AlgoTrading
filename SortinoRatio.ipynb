{
 "cells": [
  {
   "cell_type": "code",
   "execution_count": 23,
   "metadata": {},
   "outputs": [],
   "source": [
    "import numpy as np\n",
    "import pandas as pd\n",
    "import matplotlib.pyplot as plt\n",
    "from quantopian.pipeline import Pipeline\n",
    "from quantopian.pipeline.data.builtin import USEquityPricing\n",
    "from quantopian.research import run_pipeline\n",
    "from quantopian.pipeline.data import Fundamentals\n",
    "from quantopian.pipeline.factors import CustomFactor,Returns,Latest,DailyReturns\n",
    "from quantopian.pipeline.classifiers import Classifier\n",
    "from quantopian.pipeline.filters import QTradableStocksUS,Q1500US\n",
    "from quantopian.pipeline.classifiers.fundamentals import Sector\n",
    "import itertools\n",
    "from scipy.stats import skew"
   ]
  },
  {
   "cell_type": "markdown",
   "metadata": {},
   "source": [
    "###Very Significant Factor:\n",
    "1.BP_Rank + Cap_Rank - Sortino_Ratio;\n",
    "  start_date ='2016-01-01',end_date = '2017-12-31'\n",
    "  start_date ='2009-01-01',end_date = '2012-01-01' #Very Strong Quintile 2"
   ]
  },
  {
   "cell_type": "code",
   "execution_count": 24,
   "metadata": {},
   "outputs": [],
   "source": [
    "MORNINGSTAR_SECTOR_CODES = {\n",
    "     -1: 'Misc',\n",
    "    101: 'Basic Materials',\n",
    "    102: 'Consumer Cyclical',\n",
    "    103: 'Financial Services',\n",
    "    104: 'Real Estate',\n",
    "    205: 'Consumer Defensive',\n",
    "    206: 'Healthcare',\n",
    "    207: 'Utilities',\n",
    "    308: 'Communication Services',\n",
    "    309: 'Energy',\n",
    "    310: 'Industrials',\n",
    "    311: 'Technology' ,    \n",
    "}"
   ]
  },
  {
   "cell_type": "markdown",
   "metadata": {},
   "source": [
    "### Custom Factors"
   ]
  },
  {
   "cell_type": "code",
   "execution_count": 25,
   "metadata": {},
   "outputs": [],
   "source": [
    "class Momentum(CustomFactor):\n",
    "    # get the return from last month\n",
    "    inputs = [Returns(window_length = 20)]\n",
    "    window_length = 20\n",
    "    \n",
    "    def compute(self,today,assets,out,lag_returns):\n",
    "        out[:] = lag_returns[0]"
   ]
  },
  {
   "cell_type": "code",
   "execution_count": 26,
   "metadata": {},
   "outputs": [],
   "source": [
    "class SortinoRatio(CustomFactor):\n",
    "    inputs = [Returns(window_length = 2 )]\n",
    "    window_length = 20\n",
    "    def compute(self, today, asset_ids, out, returns):\n",
    "        out[:]=returns.mean(axis = 0)/returns[returns < 0].std(axis=0)"
   ]
  },
  {
   "cell_type": "code",
   "execution_count": 27,
   "metadata": {},
   "outputs": [],
   "source": [
    "class Skewness():\n",
    "    inputs = [Returns(window_length = 2 )]\n",
    "    window_length = 20\n",
    "    def compute(self, today, asset_ids, out, returns):\n",
    "        out[:]=skew(returns)"
   ]
  },
  {
   "cell_type": "markdown",
   "metadata": {},
   "source": [
    "### Make Pipeline"
   ]
  },
  {
   "cell_type": "markdown",
   "metadata": {},
   "source": [
    "##### Pipeline for CAP,BP,MOM"
   ]
  },
  {
   "cell_type": "code",
   "execution_count": 28,
   "metadata": {},
   "outputs": [],
   "source": [
    "def make_pipeline():\n",
    "    pipe = Pipeline()\n",
    "\n",
    "    returns = Returns(inputs = [USEquityPricing.close],window_length=20)\n",
    "    worst_returns_filter = returns.percentile_between(0,20)\n",
    "    \n",
    "    returns = Returns(window_length = 2)\n",
    "    universe = Q1500US() & worst_returns_filter\n",
    "    pipe = Pipeline(\n",
    "        columns = {\n",
    "            'Returns':returns,\n",
    "            'sector':Sector(),\n",
    "            'Sortino_Ratio':SortinoRatio()\n",
    "        },\n",
    "        screen = universe\n",
    "    )\n",
    "    return pipe"
   ]
  },
  {
   "cell_type": "markdown",
   "metadata": {},
   "source": [
    "### Run Pipeline"
   ]
  },
  {
   "cell_type": "code",
   "execution_count": 34,
   "metadata": {},
   "outputs": [],
   "source": [
    "pipe = make_pipeline()\n",
    "results = run_pipeline(pipe,'2006-01-01','2012-01-01')"
   ]
  },
  {
   "cell_type": "code",
   "execution_count": 35,
   "metadata": {},
   "outputs": [
    {
     "data": {
      "text/html": [
       "<div>\n",
       "<table border=\"1\" class=\"dataframe\">\n",
       "  <thead>\n",
       "    <tr style=\"text-align: right;\">\n",
       "      <th></th>\n",
       "      <th></th>\n",
       "      <th>Returns</th>\n",
       "      <th>Sortino_Ratio</th>\n",
       "      <th>sector</th>\n",
       "    </tr>\n",
       "  </thead>\n",
       "  <tbody>\n",
       "    <tr>\n",
       "      <th rowspan=\"7\" valign=\"top\">2006-01-03 00:00:00+00:00</th>\n",
       "      <th>Equity(60 [ABS])</th>\n",
       "      <td>-0.000468</td>\n",
       "      <td>-0.245557</td>\n",
       "      <td>205</td>\n",
       "    </tr>\n",
       "    <tr>\n",
       "      <th>Equity(122 [ADI])</th>\n",
       "      <td>-0.009666</td>\n",
       "      <td>-0.228951</td>\n",
       "      <td>311</td>\n",
       "    </tr>\n",
       "    <tr>\n",
       "      <th>Equity(209 [AM])</th>\n",
       "      <td>-0.014798</td>\n",
       "      <td>-0.434690</td>\n",
       "      <td>102</td>\n",
       "    </tr>\n",
       "    <tr>\n",
       "      <th>Equity(553 [ASEI])</th>\n",
       "      <td>-0.009821</td>\n",
       "      <td>-0.231660</td>\n",
       "      <td>310</td>\n",
       "    </tr>\n",
       "    <tr>\n",
       "      <th>Equity(583 [AT])</th>\n",
       "      <td>-0.002689</td>\n",
       "      <td>-0.120167</td>\n",
       "      <td>308</td>\n",
       "    </tr>\n",
       "    <tr>\n",
       "      <th>Equity(607 [ATML])</th>\n",
       "      <td>-0.012862</td>\n",
       "      <td>-0.314447</td>\n",
       "      <td>311</td>\n",
       "    </tr>\n",
       "    <tr>\n",
       "      <th>Equity(663 [AVY])</th>\n",
       "      <td>-0.013367</td>\n",
       "      <td>-0.165962</td>\n",
       "      <td>310</td>\n",
       "    </tr>\n",
       "  </tbody>\n",
       "</table>\n",
       "</div>"
      ],
      "text/plain": [
       "                                               Returns  Sortino_Ratio  sector\n",
       "2006-01-03 00:00:00+00:00 Equity(60 [ABS])   -0.000468      -0.245557     205\n",
       "                          Equity(122 [ADI])  -0.009666      -0.228951     311\n",
       "                          Equity(209 [AM])   -0.014798      -0.434690     102\n",
       "                          Equity(553 [ASEI]) -0.009821      -0.231660     310\n",
       "                          Equity(583 [AT])   -0.002689      -0.120167     308\n",
       "                          Equity(607 [ATML]) -0.012862      -0.314447     311\n",
       "                          Equity(663 [AVY])  -0.013367      -0.165962     310"
      ]
     },
     "execution_count": 35,
     "metadata": {},
     "output_type": "execute_result"
    }
   ],
   "source": [
    "results.head(7)"
   ]
  },
  {
   "cell_type": "markdown",
   "metadata": {},
   "source": [
    "Data Cleaning: Sortino Ratio"
   ]
  },
  {
   "cell_type": "code",
   "execution_count": 36,
   "metadata": {},
   "outputs": [],
   "source": [
    "Average_Sortino_Ratio = results['Sortino_Ratio'].groupby(level = 0).mean()\n",
    "Std_Sortino_Ratio = results['Sortino_Ratio'].groupby(level = 0).std()"
   ]
  },
  {
   "cell_type": "markdown",
   "metadata": {},
   "source": [
    "CREATE DATA COLUMNS"
   ]
  },
  {
   "cell_type": "code",
   "execution_count": 37,
   "metadata": {},
   "outputs": [],
   "source": [
    "data = results[['Returns']].set_index(results.index)\n",
    "asset_list_sizes = [group[1].size for group in data.groupby(level = 0 )]"
   ]
  },
  {
   "cell_type": "markdown",
   "metadata": {},
   "source": [
    "DATA COLUMN : Sortino Ratio"
   ]
  },
  {
   "cell_type": "code",
   "execution_count": 38,
   "metadata": {},
   "outputs": [],
   "source": [
    "data['Sortino_Ratios'] = results['Sortino_Ratio']\n",
    "Avg_Sortino_Ratio_column = [[idx] * size for idx, size in zip(Average_Sortino_Ratio,asset_list_sizes)]\n",
    "data['Average_Sortino_Ratio'] = list(itertools.chain(*Avg_Sortino_Ratio_column))\n",
    "Std_Sortino_Ratio_column = [[idx] * size for idx, size in zip(Std_Sortino_Ratio,asset_list_sizes)]\n",
    "data['Std_Sortino_Ratio'] = list(itertools.chain(*Std_Sortino_Ratio_column))\n",
    "data['Normal_Sortino_Ratio'] = (data['Sortino_Ratios']-data['Average_Sortino_Ratio'])/data['Std_Sortino_Ratio']"
   ]
  },
  {
   "cell_type": "markdown",
   "metadata": {},
   "source": [
    "#### Construct A Factor"
   ]
  },
  {
   "cell_type": "markdown",
   "metadata": {},
   "source": [
    "1.Only Sortino"
   ]
  },
  {
   "cell_type": "code",
   "execution_count": 49,
   "metadata": {},
   "outputs": [],
   "source": [
    "FACTOR = -data['Normal_Sortino_Ratio']\n",
    "sectors = results['sector']\n",
    "asset_list = results.index.levels[1]\n",
    "prices = get_pricing(asset_list,start_date ='2006-01-01',end_date = '2012-01-01',fields = 'close_price')\n",
    "period = (1,5,10,30)"
   ]
  },
  {
   "cell_type": "code",
   "execution_count": 50,
   "metadata": {},
   "outputs": [],
   "source": [
    "import alphalens as al"
   ]
  },
  {
   "cell_type": "code",
   "execution_count": 51,
   "metadata": {},
   "outputs": [
    {
     "name": "stdout",
     "output_type": "stream",
     "text": [
      "Dropped 2.2% entries from factor data: 2.2% in forward returns computation and 0.0% in binning phase (set max_loss=0 to see potentially suppressed Exceptions).\n",
      "max_loss is 35.0%, not exceeded: OK!\n"
     ]
    }
   ],
   "source": [
    "factor_data =  al.utils.get_clean_factor_and_forward_returns(factor = FACTOR,\n",
    "                                                           prices = prices,#Pass Price by DataFrame\n",
    "                                                           groupby = sectors,#Group by Dictonary\n",
    "                                                           groupby_labels = MORNINGSTAR_SECTOR_CODES,\n",
    "                                                           periods = period,\n",
    "                                                           quantiles = 20\n",
    "                                                           )"
   ]
  },
  {
   "cell_type": "code",
   "execution_count": null,
   "metadata": {},
   "outputs": [
    {
     "name": "stdout",
     "output_type": "stream",
     "text": [
      "Quantiles Statistics\n"
     ]
    },
    {
     "data": {
      "text/html": [
       "<div>\n",
       "<table border=\"1\" class=\"dataframe\">\n",
       "  <thead>\n",
       "    <tr style=\"text-align: right;\">\n",
       "      <th></th>\n",
       "      <th>min</th>\n",
       "      <th>max</th>\n",
       "      <th>mean</th>\n",
       "      <th>std</th>\n",
       "      <th>count</th>\n",
       "      <th>count %</th>\n",
       "    </tr>\n",
       "    <tr>\n",
       "      <th>factor_quantile</th>\n",
       "      <th></th>\n",
       "      <th></th>\n",
       "      <th></th>\n",
       "      <th></th>\n",
       "      <th></th>\n",
       "      <th></th>\n",
       "    </tr>\n",
       "  </thead>\n",
       "  <tbody>\n",
       "    <tr>\n",
       "      <th>1</th>\n",
       "      <td>-11.126132</td>\n",
       "      <td>-0.486751</td>\n",
       "      <td>-1.330801</td>\n",
       "      <td>0.521120</td>\n",
       "      <td>20257</td>\n",
       "      <td>5.178249</td>\n",
       "    </tr>\n",
       "    <tr>\n",
       "      <th>2</th>\n",
       "      <td>-1.576714</td>\n",
       "      <td>-0.351818</td>\n",
       "      <td>-0.945116</td>\n",
       "      <td>0.122131</td>\n",
       "      <td>19543</td>\n",
       "      <td>4.995731</td>\n",
       "    </tr>\n",
       "    <tr>\n",
       "      <th>3</th>\n",
       "      <td>-1.226658</td>\n",
       "      <td>-0.306174</td>\n",
       "      <td>-0.821436</td>\n",
       "      <td>0.091009</td>\n",
       "      <td>19439</td>\n",
       "      <td>4.969146</td>\n",
       "    </tr>\n",
       "    <tr>\n",
       "      <th>4</th>\n",
       "      <td>-0.988504</td>\n",
       "      <td>-0.248471</td>\n",
       "      <td>-0.730867</td>\n",
       "      <td>0.077238</td>\n",
       "      <td>19611</td>\n",
       "      <td>5.013114</td>\n",
       "    </tr>\n",
       "    <tr>\n",
       "      <th>5</th>\n",
       "      <td>-0.917477</td>\n",
       "      <td>-0.215839</td>\n",
       "      <td>-0.652615</td>\n",
       "      <td>0.069340</td>\n",
       "      <td>19504</td>\n",
       "      <td>4.985762</td>\n",
       "    </tr>\n",
       "    <tr>\n",
       "      <th>6</th>\n",
       "      <td>-0.826609</td>\n",
       "      <td>-0.179367</td>\n",
       "      <td>-0.580568</td>\n",
       "      <td>0.063660</td>\n",
       "      <td>19387</td>\n",
       "      <td>4.955853</td>\n",
       "    </tr>\n",
       "    <tr>\n",
       "      <th>7</th>\n",
       "      <td>-0.746493</td>\n",
       "      <td>-0.159913</td>\n",
       "      <td>-0.509331</td>\n",
       "      <td>0.059826</td>\n",
       "      <td>19448</td>\n",
       "      <td>4.971446</td>\n",
       "    </tr>\n",
       "    <tr>\n",
       "      <th>8</th>\n",
       "      <td>-0.660171</td>\n",
       "      <td>-0.070908</td>\n",
       "      <td>-0.435901</td>\n",
       "      <td>0.057211</td>\n",
       "      <td>19600</td>\n",
       "      <td>5.010302</td>\n",
       "    </tr>\n",
       "    <tr>\n",
       "      <th>9</th>\n",
       "      <td>-0.520129</td>\n",
       "      <td>0.002222</td>\n",
       "      <td>-0.359630</td>\n",
       "      <td>0.055955</td>\n",
       "      <td>19368</td>\n",
       "      <td>4.950996</td>\n",
       "    </tr>\n",
       "    <tr>\n",
       "      <th>10</th>\n",
       "      <td>-0.437016</td>\n",
       "      <td>0.042357</td>\n",
       "      <td>-0.277759</td>\n",
       "      <td>0.056249</td>\n",
       "      <td>19805</td>\n",
       "      <td>5.062705</td>\n",
       "    </tr>\n",
       "    <tr>\n",
       "      <th>11</th>\n",
       "      <td>-0.355953</td>\n",
       "      <td>0.123531</td>\n",
       "      <td>-0.189851</td>\n",
       "      <td>0.058023</td>\n",
       "      <td>19164</td>\n",
       "      <td>4.898848</td>\n",
       "    </tr>\n",
       "    <tr>\n",
       "      <th>12</th>\n",
       "      <td>-0.269992</td>\n",
       "      <td>0.241898</td>\n",
       "      <td>-0.091998</td>\n",
       "      <td>0.064322</td>\n",
       "      <td>19606</td>\n",
       "      <td>5.011836</td>\n",
       "    </tr>\n",
       "    <tr>\n",
       "      <th>13</th>\n",
       "      <td>-0.219181</td>\n",
       "      <td>0.417585</td>\n",
       "      <td>0.018218</td>\n",
       "      <td>0.072452</td>\n",
       "      <td>19362</td>\n",
       "      <td>4.949462</td>\n",
       "    </tr>\n",
       "    <tr>\n",
       "      <th>14</th>\n",
       "      <td>-0.157031</td>\n",
       "      <td>0.463307</td>\n",
       "      <td>0.142510</td>\n",
       "      <td>0.084625</td>\n",
       "      <td>19532</td>\n",
       "      <td>4.992919</td>\n",
       "    </tr>\n",
       "    <tr>\n",
       "      <th>15</th>\n",
       "      <td>-0.064225</td>\n",
       "      <td>0.687169</td>\n",
       "      <td>0.287913</td>\n",
       "      <td>0.100353</td>\n",
       "      <td>19589</td>\n",
       "      <td>5.007490</td>\n",
       "    </tr>\n",
       "    <tr>\n",
       "      <th>16</th>\n",
       "      <td>0.036715</td>\n",
       "      <td>0.901876</td>\n",
       "      <td>0.462122</td>\n",
       "      <td>0.118639</td>\n",
       "      <td>19456</td>\n",
       "      <td>4.973491</td>\n",
       "    </tr>\n",
       "    <tr>\n",
       "      <th>17</th>\n",
       "      <td>0.157945</td>\n",
       "      <td>1.265116</td>\n",
       "      <td>0.680012</td>\n",
       "      <td>0.142776</td>\n",
       "      <td>19373</td>\n",
       "      <td>4.952274</td>\n",
       "    </tr>\n",
       "    <tr>\n",
       "      <th>18</th>\n",
       "      <td>0.301236</td>\n",
       "      <td>1.581964</td>\n",
       "      <td>0.976130</td>\n",
       "      <td>0.181502</td>\n",
       "      <td>19523</td>\n",
       "      <td>4.990618</td>\n",
       "    </tr>\n",
       "    <tr>\n",
       "      <th>19</th>\n",
       "      <td>0.525965</td>\n",
       "      <td>2.495589</td>\n",
       "      <td>1.442702</td>\n",
       "      <td>0.262345</td>\n",
       "      <td>19459</td>\n",
       "      <td>4.974258</td>\n",
       "    </tr>\n",
       "    <tr>\n",
       "      <th>20</th>\n",
       "      <td>0.901414</td>\n",
       "      <td>13.454784</td>\n",
       "      <td>2.886559</td>\n",
       "      <td>1.263031</td>\n",
       "      <td>20168</td>\n",
       "      <td>5.155498</td>\n",
       "    </tr>\n",
       "  </tbody>\n",
       "</table>\n",
       "</div>"
      ],
      "text/plain": [
       "                       min        max      mean       std  count   count %\n",
       "factor_quantile                                                           \n",
       "1               -11.126132  -0.486751 -1.330801  0.521120  20257  5.178249\n",
       "2                -1.576714  -0.351818 -0.945116  0.122131  19543  4.995731\n",
       "3                -1.226658  -0.306174 -0.821436  0.091009  19439  4.969146\n",
       "4                -0.988504  -0.248471 -0.730867  0.077238  19611  5.013114\n",
       "5                -0.917477  -0.215839 -0.652615  0.069340  19504  4.985762\n",
       "6                -0.826609  -0.179367 -0.580568  0.063660  19387  4.955853\n",
       "7                -0.746493  -0.159913 -0.509331  0.059826  19448  4.971446\n",
       "8                -0.660171  -0.070908 -0.435901  0.057211  19600  5.010302\n",
       "9                -0.520129   0.002222 -0.359630  0.055955  19368  4.950996\n",
       "10               -0.437016   0.042357 -0.277759  0.056249  19805  5.062705\n",
       "11               -0.355953   0.123531 -0.189851  0.058023  19164  4.898848\n",
       "12               -0.269992   0.241898 -0.091998  0.064322  19606  5.011836\n",
       "13               -0.219181   0.417585  0.018218  0.072452  19362  4.949462\n",
       "14               -0.157031   0.463307  0.142510  0.084625  19532  4.992919\n",
       "15               -0.064225   0.687169  0.287913  0.100353  19589  5.007490\n",
       "16                0.036715   0.901876  0.462122  0.118639  19456  4.973491\n",
       "17                0.157945   1.265116  0.680012  0.142776  19373  4.952274\n",
       "18                0.301236   1.581964  0.976130  0.181502  19523  4.990618\n",
       "19                0.525965   2.495589  1.442702  0.262345  19459  4.974258\n",
       "20                0.901414  13.454784  2.886559  1.263031  20168  5.155498"
      ]
     },
     "metadata": {},
     "output_type": "display_data"
    },
    {
     "name": "stdout",
     "output_type": "stream",
     "text": [
      "Returns Analysis\n"
     ]
    },
    {
     "data": {
      "text/html": [
       "<div>\n",
       "<table border=\"1\" class=\"dataframe\">\n",
       "  <thead>\n",
       "    <tr style=\"text-align: right;\">\n",
       "      <th></th>\n",
       "      <th>1D</th>\n",
       "      <th>5D</th>\n",
       "      <th>10D</th>\n",
       "      <th>30D</th>\n",
       "    </tr>\n",
       "  </thead>\n",
       "  <tbody>\n",
       "    <tr>\n",
       "      <th>Ann. alpha</th>\n",
       "      <td>0.067</td>\n",
       "      <td>0.031</td>\n",
       "      <td>0.013</td>\n",
       "      <td>0.007</td>\n",
       "    </tr>\n",
       "    <tr>\n",
       "      <th>beta</th>\n",
       "      <td>0.134</td>\n",
       "      <td>0.155</td>\n",
       "      <td>0.146</td>\n",
       "      <td>0.212</td>\n",
       "    </tr>\n",
       "    <tr>\n",
       "      <th>Mean Period Wise Return Top Quantile (bps)</th>\n",
       "      <td>8.242</td>\n",
       "      <td>6.717</td>\n",
       "      <td>4.371</td>\n",
       "      <td>2.940</td>\n",
       "    </tr>\n",
       "    <tr>\n",
       "      <th>Mean Period Wise Return Bottom Quantile (bps)</th>\n",
       "      <td>-1.410</td>\n",
       "      <td>-0.213</td>\n",
       "      <td>-0.235</td>\n",
       "      <td>-0.023</td>\n",
       "    </tr>\n",
       "    <tr>\n",
       "      <th>Mean Period Wise Spread (bps)</th>\n",
       "      <td>9.652</td>\n",
       "      <td>6.035</td>\n",
       "      <td>3.631</td>\n",
       "      <td>1.935</td>\n",
       "    </tr>\n",
       "  </tbody>\n",
       "</table>\n",
       "</div>"
      ],
      "text/plain": [
       "                                                  1D     5D    10D    30D\n",
       "Ann. alpha                                     0.067  0.031  0.013  0.007\n",
       "beta                                           0.134  0.155  0.146  0.212\n",
       "Mean Period Wise Return Top Quantile (bps)     8.242  6.717  4.371  2.940\n",
       "Mean Period Wise Return Bottom Quantile (bps) -1.410 -0.213 -0.235 -0.023\n",
       "Mean Period Wise Spread (bps)                  9.652  6.035  3.631  1.935"
      ]
     },
     "metadata": {},
     "output_type": "display_data"
    }
   ],
   "source": [
    "al.tears.create_full_tear_sheet(factor_data,by_group = True)"
   ]
  },
  {
   "cell_type": "code",
   "execution_count": null,
   "metadata": {},
   "outputs": [],
   "source": []
  }
 ],
 "metadata": {
  "kernelspec": {
   "display_name": "Python 2",
   "language": "python",
   "name": "python2"
  },
  "language_info": {
   "codemirror_mode": {
    "name": "ipython",
    "version": 2
   },
   "file_extension": ".py",
   "mimetype": "text/x-python",
   "name": "python",
   "nbconvert_exporter": "python",
   "pygments_lexer": "ipython2",
   "version": "2.7.12"
  }
 },
 "nbformat": 4,
 "nbformat_minor": 2
}